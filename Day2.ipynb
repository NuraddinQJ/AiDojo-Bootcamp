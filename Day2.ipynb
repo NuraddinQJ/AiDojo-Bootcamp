{
  "nbformat": 4,
  "nbformat_minor": 0,
  "metadata": {
    "colab": {
      "provenance": [],
      "authorship_tag": "ABX9TyOTz3lAu68xmy6PRNbHP1jF",
      "include_colab_link": true
    },
    "kernelspec": {
      "name": "python3",
      "display_name": "Python 3"
    },
    "language_info": {
      "name": "python"
    }
  },
  "cells": [
    {
      "cell_type": "markdown",
      "metadata": {
        "id": "view-in-github",
        "colab_type": "text"
      },
      "source": [
        "<a href=\"https://colab.research.google.com/github/NuraddinQJ/AiDojo-Bootcamp/blob/main/Day2.ipynb\" target=\"_parent\"><img src=\"https://colab.research.google.com/assets/colab-badge.svg\" alt=\"Open In Colab\"/></a>"
      ]
    },
    {
      "cell_type": "code",
      "source": [],
      "metadata": {
        "id": "adaZ-TOCnRaT"
      },
      "execution_count": null,
      "outputs": []
    },
    {
      "cell_type": "markdown",
      "source": [
        "#Day 2\n",
        "**bold text**"
      ],
      "metadata": {
        "id": "qEoUwDLsnTZa"
      }
    },
    {
      "cell_type": "code",
      "source": [],
      "metadata": {
        "id": "Wk1Z_0RRnVvd"
      },
      "execution_count": null,
      "outputs": []
    }
  ]
}
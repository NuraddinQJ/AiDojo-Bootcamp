{
  "nbformat": 4,
  "nbformat_minor": 0,
  "metadata": {
    "colab": {
      "provenance": [],
      "authorship_tag": "ABX9TyMok2gTZuYHZBmEsWBsU74r",
      "include_colab_link": true
    },
    "kernelspec": {
      "name": "python3",
      "display_name": "Python 3"
    },
    "language_info": {
      "name": "python"
    }
  },
  "cells": [
    {
      "cell_type": "markdown",
      "metadata": {
        "id": "view-in-github",
        "colab_type": "text"
      },
      "source": [
        "<a href=\"https://colab.research.google.com/github/NuraddinQJ/AiDojo-Bootcamp/blob/main/Week2_Day1.ipynb\" target=\"_parent\"><img src=\"https://colab.research.google.com/assets/colab-badge.svg\" alt=\"Open In Colab\"/></a>"
      ]
    },
    {
      "cell_type": "markdown",
      "source": [
        "# NumPy"
      ],
      "metadata": {
        "id": "TQ3XfVhUamQ4"
      }
    },
    {
      "cell_type": "markdown",
      "source": [
        "## Installing"
      ],
      "metadata": {
        "id": "gus99IDIctBN"
      }
    },
    {
      "cell_type": "code",
      "execution_count": 3,
      "metadata": {
        "colab": {
          "base_uri": "https://localhost:8080/"
        },
        "id": "RyPhRq0pZlaf",
        "outputId": "121297d9-0693-471c-d8f7-c4fc8ad367a4"
      },
      "outputs": [
        {
          "output_type": "stream",
          "name": "stdout",
          "text": [
            "Looking in indexes: https://pypi.org/simple, https://us-python.pkg.dev/colab-wheels/public/simple/\n",
            "Requirement already satisfied: numpy in /usr/local/lib/python3.10/dist-packages (1.22.4)\n"
          ]
        }
      ],
      "source": [
        "!pip install numpy"
      ]
    },
    {
      "cell_type": "code",
      "source": [
        "import numpy as np"
      ],
      "metadata": {
        "id": "kA13Gcg0cgVh"
      },
      "execution_count": 4,
      "outputs": []
    },
    {
      "cell_type": "code",
      "source": [
        "arr = np.array([1,2,3,4])\n",
        "\n",
        "print(arr)\n",
        "print(arr.ndim) #Dimsision\n",
        "print(arr.shape) #Shaepe\n",
        "print(arr.dtype) # Data type\n",
        "print(arr.size)"
      ],
      "metadata": {
        "colab": {
          "base_uri": "https://localhost:8080/"
        },
        "id": "htgU3b6bcnkU",
        "outputId": "d4ada25d-dde2-43a0-c8f5-f32c6d1c15d1"
      },
      "execution_count": 12,
      "outputs": [
        {
          "output_type": "stream",
          "name": "stdout",
          "text": [
            "[1 2 3 4]\n",
            "1\n",
            "(4,)\n",
            "int64\n",
            "4\n"
          ]
        }
      ]
    },
    {
      "cell_type": "code",
      "source": [
        "def describe_and_display(ar):\n",
        "    \"\"\"Print out a summary of an array.\"\"\"\n",
        "    print(ar)\n",
        "    print(\"-\"*50)\n",
        "\n",
        "    print(f\"dimensions: {ar.ndim}\")\n",
        "    print(f\"shape: {ar.shape}\")\n",
        "    print(f\"size: {ar.size}\")\n",
        "    print(f\"dtype: {ar.dtype}\")\n",
        "\n",
        "    print(\"-\"*50)\n",
        "    print(\"\\n\")"
      ],
      "metadata": {
        "id": "9Isq5deqcyUE"
      },
      "execution_count": 14,
      "outputs": []
    },
    {
      "cell_type": "code",
      "source": [],
      "metadata": {
        "id": "NJ5PDPK0dt_H"
      },
      "execution_count": null,
      "outputs": []
    },
    {
      "cell_type": "markdown",
      "source": [
        "# Arrays Example"
      ],
      "metadata": {
        "id": "3Zr8sOred5Ra"
      }
    },
    {
      "cell_type": "code",
      "source": [
        "even=np.array([0,2,4,6])\n",
        "odd=np.array([1,3,5,7])\n",
        "arr = np.array([odd,even,odd])\n",
        "\n",
        "describe_and_display(arr)"
      ],
      "metadata": {
        "colab": {
          "base_uri": "https://localhost:8080/"
        },
        "id": "ZRaJN6Y_d6-x",
        "outputId": "c5fb903f-2e1f-4c46-b357-1678f7eda010"
      },
      "execution_count": 17,
      "outputs": [
        {
          "output_type": "stream",
          "name": "stdout",
          "text": [
            "[[1 3 5 7]\n",
            " [0 2 4 6]\n",
            " [1 3 5 7]]\n",
            "--------------------------------------------------\n",
            "dimensions: 2\n",
            "shape: (3, 4)\n",
            "size: 12\n",
            "dtype: int64\n",
            "--------------------------------------------------\n",
            "\n",
            "\n"
          ]
        }
      ]
    },
    {
      "cell_type": "markdown",
      "source": [
        "## Zeros and Ones"
      ],
      "metadata": {
        "id": "0fcPW20YfZT1"
      }
    },
    {
      "cell_type": "code",
      "source": [
        "ones = np.ones([3,3])\n",
        "describe_and_display(ones)\n",
        "\n",
        "zero= np.zeros([3,3])\n",
        "describe_and_display(zero)\n"
      ],
      "metadata": {
        "colab": {
          "base_uri": "https://localhost:8080/"
        },
        "id": "-rsc5yV1ejm6",
        "outputId": "64e364bb-3137-4c2b-8214-29ce35b0046b"
      },
      "execution_count": 24,
      "outputs": [
        {
          "output_type": "stream",
          "name": "stdout",
          "text": [
            "[[1. 1. 1.]\n",
            " [1. 1. 1.]\n",
            " [1. 1. 1.]]\n",
            "--------------------------------------------------\n",
            "dimensions: 2\n",
            "shape: (3, 3)\n",
            "size: 9\n",
            "dtype: float64\n",
            "--------------------------------------------------\n",
            "\n",
            "\n",
            "[[0. 0. 0.]\n",
            " [0. 0. 0.]\n",
            " [0. 0. 0.]]\n",
            "--------------------------------------------------\n",
            "dimensions: 2\n",
            "shape: (3, 3)\n",
            "size: 9\n",
            "dtype: float64\n",
            "--------------------------------------------------\n",
            "\n",
            "\n"
          ]
        }
      ]
    },
    {
      "cell_type": "code",
      "source": [
        "rng = np.arange(0, 10 ,0.5) #start, end, steps\n",
        "describe_and_display(rng)\n",
        "\n",
        "ln = np.linspace(10, 20)\n",
        "describe_and_display(ln)"
      ],
      "metadata": {
        "colab": {
          "base_uri": "https://localhost:8080/"
        },
        "id": "KDLWrdrqe5Bk",
        "outputId": "19724559-cd73-43ac-b370-847e81b13c34"
      },
      "execution_count": 29,
      "outputs": [
        {
          "output_type": "stream",
          "name": "stdout",
          "text": [
            "[0.  0.5 1.  1.5 2.  2.5 3.  3.5 4.  4.5 5.  5.5 6.  6.5 7.  7.5 8.  8.5\n",
            " 9.  9.5]\n",
            "--------------------------------------------------\n",
            "dimensions: 1\n",
            "shape: (20,)\n",
            "size: 20\n",
            "dtype: float64\n",
            "--------------------------------------------------\n",
            "\n",
            "\n",
            "[10.         10.20408163 10.40816327 10.6122449  10.81632653 11.02040816\n",
            " 11.2244898  11.42857143 11.63265306 11.83673469 12.04081633 12.24489796\n",
            " 12.44897959 12.65306122 12.85714286 13.06122449 13.26530612 13.46938776\n",
            " 13.67346939 13.87755102 14.08163265 14.28571429 14.48979592 14.69387755\n",
            " 14.89795918 15.10204082 15.30612245 15.51020408 15.71428571 15.91836735\n",
            " 16.12244898 16.32653061 16.53061224 16.73469388 16.93877551 17.14285714\n",
            " 17.34693878 17.55102041 17.75510204 17.95918367 18.16326531 18.36734694\n",
            " 18.57142857 18.7755102  18.97959184 19.18367347 19.3877551  19.59183673\n",
            " 19.79591837 20.        ]\n",
            "--------------------------------------------------\n",
            "dimensions: 1\n",
            "shape: (50,)\n",
            "size: 50\n",
            "dtype: float64\n",
            "--------------------------------------------------\n",
            "\n",
            "\n"
          ]
        }
      ]
    },
    {
      "cell_type": "code",
      "source": [],
      "metadata": {
        "id": "bmUVAKEhfk8p"
      },
      "execution_count": null,
      "outputs": []
    }
  ]
}
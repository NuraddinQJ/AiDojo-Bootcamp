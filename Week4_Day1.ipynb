{
  "nbformat": 4,
  "nbformat_minor": 0,
  "metadata": {
    "colab": {
      "provenance": [],
      "authorship_tag": "ABX9TyMINbEPKOYG4ftTZOtne6Dd",
      "include_colab_link": true
    },
    "kernelspec": {
      "name": "python3",
      "display_name": "Python 3"
    },
    "language_info": {
      "name": "python"
    }
  },
  "cells": [
    {
      "cell_type": "markdown",
      "metadata": {
        "id": "view-in-github",
        "colab_type": "text"
      },
      "source": [
        "<a href=\"https://colab.research.google.com/github/NuraddinQJ/AiDojo-Bootcamp/blob/main/Week4_Day1.ipynb\" target=\"_parent\"><img src=\"https://colab.research.google.com/assets/colab-badge.svg\" alt=\"Open In Colab\"/></a>"
      ]
    },
    {
      "cell_type": "markdown",
      "source": [
        "# Deep Learning"
      ],
      "metadata": {
        "id": "JkkD1pUU0yXv"
      }
    },
    {
      "cell_type": "code",
      "execution_count": 45,
      "metadata": {
        "colab": {
          "base_uri": "https://localhost:8080/"
        },
        "id": "BQRH5qTC0fSi",
        "outputId": "e66e0131-98ff-4b0a-de52-cfa0d0434905"
      },
      "outputs": [
        {
          "output_type": "stream",
          "name": "stdout",
          "text": [
            "2.12.0\n"
          ]
        }
      ],
      "source": [
        "import tensorflow as tf\n",
        "import numpy as np\n",
        "print(tf.__version__)"
      ]
    },
    {
      "cell_type": "code",
      "source": [
        "# Creta a scalar (rak as 0 tensorflower)\n",
        "scaler = tf.constant(5)\n",
        "\n",
        "scaler"
      ],
      "metadata": {
        "colab": {
          "base_uri": "https://localhost:8080/"
        },
        "id": "o_WvK3_O_0c_",
        "outputId": "ddac944d-125d-4743-e878-e28d3523b480"
      },
      "execution_count": 5,
      "outputs": [
        {
          "output_type": "execute_result",
          "data": {
            "text/plain": [
              "<tf.Tensor: shape=(), dtype=int32, numpy=5>"
            ]
          },
          "metadata": {},
          "execution_count": 5
        }
      ]
    },
    {
      "cell_type": "code",
      "source": [
        "# dim of the scaler\n",
        "\n",
        "scaler.ndim"
      ],
      "metadata": {
        "colab": {
          "base_uri": "https://localhost:8080/"
        },
        "id": "VXT8x4MxADy1",
        "outputId": "78efc576-a112-4c47-ed07-3b496cbe7310"
      },
      "execution_count": 6,
      "outputs": [
        {
          "output_type": "execute_result",
          "data": {
            "text/plain": [
              "0"
            ]
          },
          "metadata": {},
          "execution_count": 6
        }
      ]
    },
    {
      "cell_type": "code",
      "source": [
        "#create a vector (0 dimensions)\n",
        "\n",
        "vector =tf.constant([1,2,3])\n",
        "vector.numpy()\n"
      ],
      "metadata": {
        "colab": {
          "base_uri": "https://localhost:8080/"
        },
        "id": "Gpf8NvzrAN-N",
        "outputId": "50449257-a955-41c2-99ac-59f49adf8dae"
      },
      "execution_count": 11,
      "outputs": [
        {
          "output_type": "execute_result",
          "data": {
            "text/plain": [
              "array([1, 2, 3], dtype=int32)"
            ]
          },
          "metadata": {},
          "execution_count": 11
        }
      ]
    },
    {
      "cell_type": "code",
      "source": [
        "#create a matrix more then 1 dimension\n",
        "matrix= tf.constant([[1,2,3],\n",
        "                     [3,4,5],\n",
        "                     [7,8,9]], dtype=tf.int64)"
      ],
      "metadata": {
        "id": "Z-fk5r_QAVO7"
      },
      "execution_count": 14,
      "outputs": []
    },
    {
      "cell_type": "code",
      "source": [
        "matrix"
      ],
      "metadata": {
        "colab": {
          "base_uri": "https://localhost:8080/"
        },
        "id": "D6RmoTH0A0m6",
        "outputId": "7e926751-51d4-4e8a-d507-88046510c399"
      },
      "execution_count": 15,
      "outputs": [
        {
          "output_type": "execute_result",
          "data": {
            "text/plain": [
              "<tf.Tensor: shape=(3, 3), dtype=int64, numpy=\n",
              "array([[1, 2, 3],\n",
              "       [3, 4, 5],\n",
              "       [7, 8, 9]])>"
            ]
          },
          "metadata": {},
          "execution_count": 15
        }
      ]
    },
    {
      "cell_type": "code",
      "source": [
        "tensor = tf.constant([[[1,2,3],\n",
        "                     [3,4,5],\n",
        "                     [7,8,9]],\n",
        "                     [[1,2,3],\n",
        "                     [3,4,5],\n",
        "                     [7,8,9]]\n",
        "                     ], dtype=tf.int64)\n"
      ],
      "metadata": {
        "id": "tNvu__dRA26G"
      },
      "execution_count": 20,
      "outputs": []
    },
    {
      "cell_type": "code",
      "source": [
        "tensor.shape"
      ],
      "metadata": {
        "colab": {
          "base_uri": "https://localhost:8080/"
        },
        "id": "pAns61zGBt4m",
        "outputId": "f18b51f7-e385-4e65-ca5a-6a59d875d892"
      },
      "execution_count": 21,
      "outputs": [
        {
          "output_type": "execute_result",
          "data": {
            "text/plain": [
              "TensorShape([2, 3, 3])"
            ]
          },
          "metadata": {},
          "execution_count": 21
        }
      ]
    },
    {
      "cell_type": "code",
      "source": [
        "var = tf.Variable([1,2,3])\n",
        "var"
      ],
      "metadata": {
        "colab": {
          "base_uri": "https://localhost:8080/"
        },
        "id": "6r5bfs3ZBvX0",
        "outputId": "ca819645-c67c-4989-b078-99641bec2c01"
      },
      "execution_count": 24,
      "outputs": [
        {
          "output_type": "execute_result",
          "data": {
            "text/plain": [
              "<tf.Variable 'Variable:0' shape=(3,) dtype=int32, numpy=array([1, 2, 3], dtype=int32)>"
            ]
          },
          "metadata": {},
          "execution_count": 24
        }
      ]
    },
    {
      "cell_type": "code",
      "source": [
        "var.assign([4,3,4])"
      ],
      "metadata": {
        "colab": {
          "base_uri": "https://localhost:8080/"
        },
        "id": "JvyG_ApfB-jG",
        "outputId": "5aaac2dd-c88a-4b33-aa26-bf0829c6f41d"
      },
      "execution_count": 25,
      "outputs": [
        {
          "output_type": "execute_result",
          "data": {
            "text/plain": [
              "<tf.Variable 'UnreadVariable' shape=(3,) dtype=int32, numpy=array([4, 3, 4], dtype=int32)>"
            ]
          },
          "metadata": {},
          "execution_count": 25
        }
      ]
    },
    {
      "cell_type": "code",
      "source": [
        "tf.random.set_seed(42)\n",
        "\n",
        "rnd_1 = tf.random.Generator.from_seed(42)\n",
        "rnd_1 = rnd_1.normal([2])\n",
        "\n",
        "rnd_2 = tf.random.Generator.from_seed(42)\n",
        "rnd_2 = rnd_2.normal([2])\n",
        "\n",
        "rnd_1, rnd_2"
      ],
      "metadata": {
        "colab": {
          "base_uri": "https://localhost:8080/"
        },
        "id": "3Tyda384CUpv",
        "outputId": "be9fb98f-d806-477c-bd69-1db032ad6b24"
      },
      "execution_count": 37,
      "outputs": [
        {
          "output_type": "execute_result",
          "data": {
            "text/plain": [
              "(<tf.Tensor: shape=(2,), dtype=float32, numpy=array([-0.7565803 , -0.06854702], dtype=float32)>,\n",
              " <tf.Tensor: shape=(2,), dtype=float32, numpy=array([-0.7565803 , -0.06854702], dtype=float32)>)"
            ]
          },
          "metadata": {},
          "execution_count": 37
        }
      ]
    },
    {
      "cell_type": "code",
      "source": [
        "tf.random.shuffle(matrix, seed=42)"
      ],
      "metadata": {
        "colab": {
          "base_uri": "https://localhost:8080/"
        },
        "id": "hM9im3ATDCz7",
        "outputId": "ef1c7692-1082-4c65-ca61-2509023288ed"
      },
      "execution_count": 52,
      "outputs": [
        {
          "output_type": "execute_result",
          "data": {
            "text/plain": [
              "<tf.Tensor: shape=(3, 3), dtype=int64, numpy=\n",
              "array([[7, 8, 9],\n",
              "       [1, 2, 3],\n",
              "       [3, 4, 5]])>"
            ]
          },
          "metadata": {},
          "execution_count": 52
        }
      ]
    },
    {
      "cell_type": "code",
      "source": [],
      "metadata": {
        "id": "9uQcTcomD4lI"
      },
      "execution_count": null,
      "outputs": []
    }
  ]
}
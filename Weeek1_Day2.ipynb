{
  "nbformat": 4,
  "nbformat_minor": 0,
  "metadata": {
    "colab": {
      "provenance": [],
      "authorship_tag": "ABX9TyP7R62ligY9V2MWKjX0snTY",
      "include_colab_link": true
    },
    "kernelspec": {
      "name": "python3",
      "display_name": "Python 3"
    },
    "language_info": {
      "name": "python"
    }
  },
  "cells": [
    {
      "cell_type": "markdown",
      "metadata": {
        "id": "view-in-github",
        "colab_type": "text"
      },
      "source": [
        "<a href=\"https://colab.research.google.com/github/NuraddinQJ/AiDojo-Bootcamp/blob/main/Weeek1_Day2.ipynb\" target=\"_parent\"><img src=\"https://colab.research.google.com/assets/colab-badge.svg\" alt=\"Open In Colab\"/></a>"
      ]
    },
    {
      "cell_type": "code",
      "source": [],
      "metadata": {
        "id": "adaZ-TOCnRaT"
      },
      "execution_count": null,
      "outputs": []
    },
    {
      "cell_type": "markdown",
      "source": [
        "#Day 2 - Overview of python Built-in Labries to read and process Data\n",
        "\n",
        "**Keywrods**\n",
        "\n",
        "*   open()\n",
        "*   os Library\n",
        "*   glob Library\n",
        "*   shutil Library (Files&Dir opeartion)\n",
        "*\n",
        "\n",
        "\n",
        "\n",
        "\n",
        "\n",
        "\n"
      ],
      "metadata": {
        "id": "qEoUwDLsnTZa"
      }
    },
    {
      "cell_type": "markdown",
      "source": [
        "#Exampe"
      ],
      "metadata": {
        "id": "J_xbbukD5aj3"
      }
    },
    {
      "cell_type": "code",
      "source": [],
      "metadata": {
        "id": "bBe2_1Uy-xaD"
      },
      "execution_count": null,
      "outputs": []
    },
    {
      "cell_type": "code",
      "source": [
        "import os\n",
        "\n",
        "os.mkdir(\"Data\")\n",
        "os.chdir(\"Data\")\n",
        "os.mkdir(\"Test\")\n",
        "os.mkdir(\"Train\")\n",
        "os.mkdir(\"Validation\")\n",
        "# File 1\n",
        "os.chdir(\"./Test\")\n",
        "file1 = open('test_data.txt','w')\n",
        "file1.write('test_data')\n",
        "file1.close()\n",
        "# File 2\n",
        "os.chdir(\"..\")\n",
        "os.chdir(\"./Train\")\n",
        "file2 = open('train_data.txt','w')\n",
        "file2.write('train_data')\n",
        "file2.close()\n",
        "# File 3\n",
        "os.chdir(\"..\")\n",
        "os.chdir(\"./Validation\")\n",
        "file3 = open('valdition_data.txt','w')\n",
        "file3.write('val_data')\n",
        "file3.close()"
      ],
      "metadata": {
        "id": "3hQTZ4ON5q1Y"
      },
      "execution_count": 1,
      "outputs": []
    },
    {
      "cell_type": "markdown",
      "source": [
        "#Python Requests\n",
        "\n"
      ],
      "metadata": {
        "id": "3nr20xER-AAw"
      }
    },
    {
      "cell_type": "code",
      "source": [
        "import requests\n",
        "url='https://api.github.com/users/openai'\n",
        "req = requests.get(url)\n",
        "\n",
        "req.text\n"
      ],
      "metadata": {
        "colab": {
          "base_uri": "https://localhost:8080/",
          "height": 182
        },
        "id": "z0PvdZLY-pT6",
        "outputId": "88d2463c-4502-4d72-e6c7-3db8490c4f7f"
      },
      "execution_count": 5,
      "outputs": [
        {
          "output_type": "execute_result",
          "data": {
            "text/plain": [
              "'{\"login\":\"openai\",\"id\":14957082,\"node_id\":\"MDEyOk9yZ2FuaXphdGlvbjE0OTU3MDgy\",\"avatar_url\":\"https://avatars.githubusercontent.com/u/14957082?v=4\",\"gravatar_id\":\"\",\"url\":\"https://api.github.com/users/openai\",\"html_url\":\"https://github.com/openai\",\"followers_url\":\"https://api.github.com/users/openai/followers\",\"following_url\":\"https://api.github.com/users/openai/following{/other_user}\",\"gists_url\":\"https://api.github.com/users/openai/gists{/gist_id}\",\"starred_url\":\"https://api.github.com/users/openai/starred{/owner}{/repo}\",\"subscriptions_url\":\"https://api.github.com/users/openai/subscriptions\",\"organizations_url\":\"https://api.github.com/users/openai/orgs\",\"repos_url\":\"https://api.github.com/users/openai/repos\",\"events_url\":\"https://api.github.com/users/openai/events{/privacy}\",\"received_events_url\":\"https://api.github.com/users/openai/received_events\",\"type\":\"Organization\",\"site_admin\":false,\"name\":\"OpenAI\",\"company\":null,\"blog\":\"https://openai.com/\",\"location\":null,\"email\":null,\"hireable\":null,\"bio\":null,\"twitter_username\":null,\"public_repos\":151,\"public_gists\":0,\"followers\":58636,\"following\":0,\"created_at\":\"2015-10-03T19:34:05Z\",\"updated_at\":\"2023-06-14T23:16:33Z\"}'"
            ],
            "application/vnd.google.colaboratory.intrinsic+json": {
              "type": "string"
            }
          },
          "metadata": {},
          "execution_count": 5
        }
      ]
    }
  ]
}